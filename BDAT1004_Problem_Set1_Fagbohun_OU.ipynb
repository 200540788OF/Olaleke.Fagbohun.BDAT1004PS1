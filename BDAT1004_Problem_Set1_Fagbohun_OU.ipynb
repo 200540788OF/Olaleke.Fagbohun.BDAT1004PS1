{
 "cells": [
  {
   "cell_type": "markdown",
   "id": "2c594ed9",
   "metadata": {},
   "source": [
    "## Question 1"
   ]
  },
  {
   "cell_type": "code",
   "execution_count": 1,
   "id": "934db626",
   "metadata": {},
   "outputs": [],
   "source": [
    "a=5\n",
    "b=5.0\n",
    "c=5>1\n",
    "d='5'\n",
    "e= 5*2\n",
    "f='5' * 2\n",
    "g='5' + '2'\n",
    "h=5 / 2\n",
    "i=5 % 2\n",
    "j={5, 2, 1}\n",
    "k= 5 == 3\n",
    "import math\n",
    "l= math.pi"
   ]
  },
  {
   "cell_type": "code",
   "execution_count": 2,
   "id": "7e9f86ab",
   "metadata": {
    "scrolled": true
   },
   "outputs": [
    {
     "name": "stdout",
     "output_type": "stream",
     "text": [
      "5 <class 'int'>\n",
      "5.0 <class 'float'>\n",
      "True <class 'bool'>\n",
      "5 <class 'str'>\n",
      "10 <class 'int'>\n",
      "55 <class 'str'>\n",
      "52 <class 'str'>\n",
      "2.5 <class 'float'>\n",
      "1 <class 'int'>\n",
      "{1, 2, 5} <class 'set'>\n",
      "False <class 'bool'>\n",
      "3.141592653589793 <class 'float'>\n"
     ]
    }
   ],
   "source": [
    "print(a, type(a))\n",
    "print(b, type(b))\n",
    "print(c, type(c))\n",
    "print(d, type(d))\n",
    "print(e, type(e))\n",
    "print(f, type(f))\n",
    "print(g, type(g))\n",
    "print(h, type(h))\n",
    "print(i, type(i))\n",
    "print(j, type(j))\n",
    "print(k, type(k))\n",
    "print(l, type(l))"
   ]
  },
  {
   "cell_type": "markdown",
   "id": "6709ae84",
   "metadata": {},
   "source": [
    "## Question 2"
   ]
  },
  {
   "cell_type": "code",
   "execution_count": 3,
   "id": "d1165832",
   "metadata": {},
   "outputs": [
    {
     "name": "stdout",
     "output_type": "stream",
     "text": [
      "The length of the word is 34\n",
      "True, ice is a substring of Supercalifragilisticexpialidocious\n"
     ]
    }
   ],
   "source": [
    "string = 'Supercalifragilisticexpialidocious'\n",
    "string2 = 'ice'\n",
    "print('The length of the word is ' + str(len(string)))\n",
    "print(str(string2 in string) + ', ice is a substring of Supercalifragilisticexpialidocious')"
   ]
  },
  {
   "cell_type": "code",
   "execution_count": 4,
   "id": "0d86d4b3",
   "metadata": {},
   "outputs": [
    {
     "name": "stdout",
     "output_type": "stream",
     "text": [
      "Supercalifragilisticexpialidocious\n"
     ]
    }
   ],
   "source": [
    "lst = ['Supercalifragilisticexpialidocious', 'Honorificabilitudinitatibus', 'Bababadalgharaghtakamminarronnkonn']\n",
    "print(max(lst))"
   ]
  },
  {
   "cell_type": "code",
   "execution_count": 5,
   "id": "c7b5f1e5",
   "metadata": {},
   "outputs": [
    {
     "name": "stdout",
     "output_type": "stream",
     "text": [
      "The first composer is : Bartok\n",
      "The last composer is : Buxtehude\n"
     ]
    }
   ],
   "source": [
    "lst2 = ['Berlioz', 'Borodin', 'Brian','Bartok', 'Bellini', 'Buxtehude', 'Bernstein']\n",
    "lst2.sort()\n",
    "print('The first composer is : ' + str(lst2[0]))\n",
    "print('The last composer is : ' + str(lst2[-1]))"
   ]
  },
  {
   "cell_type": "markdown",
   "id": "4f1aeb26",
   "metadata": {},
   "source": [
    "## Question 3"
   ]
  },
  {
   "cell_type": "code",
   "execution_count": 6,
   "id": "d35f9ed3",
   "metadata": {},
   "outputs": [
    {
     "name": "stdout",
     "output_type": "stream",
     "text": [
      "length1:2\n",
      "length2:2\n",
      "length3:2\n",
      "1.7320508075688772\n"
     ]
    }
   ],
   "source": [
    "a=float(input('length1:'))\n",
    "b=float(input('length2:'))\n",
    "c=float(input('length3:'))\n",
    "s=(a+b+c)/2\n",
    "area=(s*(s-a)*(s-b)*(s-c))**0.5\n",
    "print(area)"
   ]
  },
  {
   "cell_type": "markdown",
   "id": "2b30a9d4",
   "metadata": {},
   "source": [
    "## Question 4"
   ]
  },
  {
   "cell_type": "code",
   "execution_count": 7,
   "id": "8a4c0d22",
   "metadata": {},
   "outputs": [
    {
     "name": "stdout",
     "output_type": "stream",
     "text": [
      "The even elements are:  [42, 56, 32]\n",
      "The odd elements are:  [25, 47]\n"
     ]
    }
   ],
   "source": [
    "array = [25, 47, 42, 56, 32]\n",
    "even = []\n",
    "odd = []\n",
    "for e in array:\n",
    "    if (e % 2 == 0):\n",
    "        even.append(e)\n",
    "    else:\n",
    "        odd.append(e)\n",
    "print('The even elements are: ',(even))\n",
    "print('The odd elements are: ',(odd))"
   ]
  },
  {
   "cell_type": "markdown",
   "id": "77ccb141",
   "metadata": {},
   "source": [
    "## Question 5"
   ]
  },
  {
   "cell_type": "code",
   "execution_count": 8,
   "id": "1ea9e4a4",
   "metadata": {},
   "outputs": [],
   "source": [
    "def ins_rect(x, y, x1, y1, x2, y2):\n",
    "    if(x > x1 and x < x2 and y > y1 and y < y2):\n",
    "        return True\n",
    "    else:\n",
    "        return False"
   ]
  },
  {
   "cell_type": "code",
   "execution_count": 9,
   "id": "f2ec7a3f",
   "metadata": {},
   "outputs": [
    {
     "name": "stdout",
     "output_type": "stream",
     "text": [
      "True\n"
     ]
    }
   ],
   "source": [
    "x = 1\n",
    "y = 1\n",
    "x1 = 0\n",
    "y1 = 0\n",
    "x2 = 2\n",
    "y2 = 3\n",
    "print(ins_rect(x, y, x1, y1, x2, y2))"
   ]
  },
  {
   "cell_type": "code",
   "execution_count": 10,
   "id": "83b6f158",
   "metadata": {},
   "outputs": [
    {
     "name": "stdout",
     "output_type": "stream",
     "text": [
      "False\n"
     ]
    }
   ],
   "source": [
    "x = -1\n",
    "y = -1\n",
    "x1 = 0\n",
    "y1 = 0\n",
    "x2 = 2\n",
    "y2 = 3\n",
    "print(ins_rect(x, y, x1, y1, x2, y2))"
   ]
  },
  {
   "cell_type": "markdown",
   "id": "4d9484e8",
   "metadata": {},
   "source": [
    "## Question 6"
   ]
  },
  {
   "cell_type": "code",
   "execution_count": 11,
   "id": "d657f6e2",
   "metadata": {},
   "outputs": [],
   "source": [
    "def pig(text):\n",
    "    vowels = ('a', 'e', 'i', 'o', 'u')\n",
    "    \n",
    "    if text[0].lower() in vowels:\n",
    "        return(text[0].lower() + text[1:] + 'way')\n",
    "    else:\n",
    "        return(text[1:] + text[0] + 'ay')"
   ]
  },
  {
   "cell_type": "code",
   "execution_count": 12,
   "id": "8767edaf",
   "metadata": {},
   "outputs": [
    {
     "data": {
      "text/plain": [
       "'appyhay'"
      ]
     },
     "execution_count": 12,
     "metadata": {},
     "output_type": "execute_result"
    }
   ],
   "source": [
    "pig('happy')"
   ]
  },
  {
   "cell_type": "code",
   "execution_count": 13,
   "id": "c250d8ec",
   "metadata": {},
   "outputs": [
    {
     "data": {
      "text/plain": [
       "'enterway'"
      ]
     },
     "execution_count": 13,
     "metadata": {},
     "output_type": "execute_result"
    }
   ],
   "source": [
    "pig('Enter')"
   ]
  },
  {
   "cell_type": "markdown",
   "id": "0bd1b989",
   "metadata": {},
   "source": [
    "## Question 7"
   ]
  },
  {
   "cell_type": "code",
   "execution_count": 14,
   "id": "9978c68d",
   "metadata": {},
   "outputs": [],
   "source": [
    "def bldcount(filename):\n",
    "    samples = open(\"C:/Users/USER/Desktop/bloodtype1.txt\", \"r\")\n",
    "    samp_list = [samples.readline().split(' ')]\n",
    "    bloodtypes = ['A', 'AB', 'B', 'O', 'OO']\n",
    "    \n",
    "    for btypes in bloodtypes:\n",
    "        bldtype = samp_list[0].count(btypes)\n",
    "        print('There are' + ' ' + str(bldtype) + ' ' + 'patients' + ' ' + 'of blood type' + ' ' + str(btypes))"
   ]
  },
  {
   "cell_type": "code",
   "execution_count": 15,
   "id": "2558c492",
   "metadata": {},
   "outputs": [
    {
     "name": "stdout",
     "output_type": "stream",
     "text": [
      "There are 15 patients of blood type A\n",
      "There are 13 patients of blood type AB\n",
      "There are 1 patients of blood type B\n",
      "There are 15 patients of blood type O\n",
      "There are 0 patients of blood type OO\n"
     ]
    }
   ],
   "source": [
    "bldcount('bloodtype1.txt')"
   ]
  },
  {
   "cell_type": "markdown",
   "id": "1d20fb1a",
   "metadata": {},
   "source": [
    "## Question 8"
   ]
  },
  {
   "cell_type": "code",
   "execution_count": 16,
   "id": "cd433730",
   "metadata": {},
   "outputs": [],
   "source": [
    "def curconv(currency, amount):\n",
    "    currFile = open(\"C:/Users/USER/Desktop/CA/school/GEORGIAN/BDAT1004/currencies.txt\", \"r\")\n",
    "    currencies = {}\n",
    "    lines = currFile.readlines()\n",
    "\n",
    "    for line in lines:\n",
    "        currencies[line[:3]] = line[4:13]\n",
    "    value = currencies[currency]\n",
    "    print(amount * float(value))"
   ]
  },
  {
   "cell_type": "code",
   "execution_count": 17,
   "id": "a13c7516",
   "metadata": {},
   "outputs": [
    {
     "name": "stdout",
     "output_type": "stream",
     "text": [
      "122.96544\n"
     ]
    }
   ],
   "source": [
    "curconv('EUR', 100)"
   ]
  },
  {
   "cell_type": "code",
   "execution_count": 18,
   "id": "288f288b",
   "metadata": {},
   "outputs": [
    {
     "name": "stdout",
     "output_type": "stream",
     "text": [
      "1.2414\n"
     ]
    }
   ],
   "source": [
    "curconv('JPY', 100)"
   ]
  },
  {
   "cell_type": "markdown",
   "id": "4134957c",
   "metadata": {},
   "source": [
    "## Question 9"
   ]
  },
  {
   "cell_type": "markdown",
   "id": "d1392862",
   "metadata": {},
   "source": [
    "### (a) 6 + 'a'\n",
    "#### error: unsupported operand type(s) for +: 'int' and 'str'\n",
    "#### addition function will not work between string and integer data types unless the string is defined\n",
    "\n",
    "\n",
    "### (b) b=[1,2,3,4,5,6,7,8,9,0]\n",
    "###          b[12]\n",
    "#### error: list index out of range\n",
    "#### the called in index is beyond the list items\n",
    "\n",
    "\n",
    "### (c) math.sqrt(-1.0)\n",
    "#### error: math domain error\n",
    "\n",
    "\n",
    "### (d) undeclared variable 'x'\n",
    "#### error: name 'x' is not defined\n",
    "#### variable 'x' is undefined or has no assigned value\n",
    "\n",
    "### (e) mistyped filename or wrong directory\n",
    "#### error: No such file or directory\n",
    "#### file with that name or in that directory does not exist"
   ]
  },
  {
   "cell_type": "markdown",
   "id": "fa17478e",
   "metadata": {},
   "source": [
    "## Question 10"
   ]
  },
  {
   "cell_type": "code",
   "execution_count": 19,
   "id": "c9c34ad9",
   "metadata": {},
   "outputs": [],
   "source": [
    "def frequencies(text):    \n",
    "    letters = ('a','b','c','d','e','f','g','h','i','j','k','l','m','n','o','p','q','r','s','t','u','v','w','x','y','z')\n",
    "    characters = []\n",
    "    letters_dict = {}\n",
    "    \n",
    "    for word in text:\n",
    "        for char in word:\n",
    "            if char.isalpha():\n",
    "                characters.append(char)\n",
    "                \n",
    "    for char in letters:\n",
    "        if char in characters:\n",
    "            letters_dict[char] = characters.count(char)\n",
    "        else:\n",
    "            letters_dict[char] = 0\n",
    "            \n",
    "    print(list(letters_dict.values()))"
   ]
  },
  {
   "cell_type": "code",
   "execution_count": 20,
   "id": "5881a9f0",
   "metadata": {},
   "outputs": [
    {
     "name": "stdout",
     "output_type": "stream",
     "text": [
      "[1, 1, 1, 3, 5, 1, 1, 2, 1, 0, 1, 0, 1, 2, 4, 0, 1, 2, 0, 2, 1, 0, 1, 1, 0, 0]\n"
     ]
    }
   ],
   "source": [
    "frequencies('The quick red fox got bored and went home.')"
   ]
  },
  {
   "cell_type": "code",
   "execution_count": 21,
   "id": "cf281296",
   "metadata": {},
   "outputs": [
    {
     "name": "stdout",
     "output_type": "stream",
     "text": [
      "[1, 0, 0, 0, 1, 0, 0, 0, 0, 0, 0, 1, 0, 0, 0, 2, 0, 0, 0, 0, 0, 0, 0, 0, 0, 0]\n"
     ]
    }
   ],
   "source": [
    "frequencies('apple')"
   ]
  }
 ],
 "metadata": {
  "kernelspec": {
   "display_name": "Python 3 (ipykernel)",
   "language": "python",
   "name": "python3"
  },
  "language_info": {
   "codemirror_mode": {
    "name": "ipython",
    "version": 3
   },
   "file_extension": ".py",
   "mimetype": "text/x-python",
   "name": "python",
   "nbconvert_exporter": "python",
   "pygments_lexer": "ipython3",
   "version": "3.9.7"
  }
 },
 "nbformat": 4,
 "nbformat_minor": 5
}
